{
 "cells": [
  {
   "cell_type": "markdown",
   "id": "95bf296b",
   "metadata": {},
   "source": [
    "**De Bruijn Graphs**"
   ]
  },
  {
   "cell_type": "markdown",
   "id": "b762bd72",
   "metadata": {},
   "source": [
    "**2.1) Generated Unique Data filename as 1002059166.txt in cmd**"
   ]
  },
  {
   "cell_type": "markdown",
   "id": "b1b5f3dc",
   "metadata": {},
   "source": [
    "**2.2) Generating K-mers**\n"
   ]
  },
  {
   "cell_type": "code",
   "execution_count": 1,
   "id": "27ddcc12",
   "metadata": {},
   "outputs": [],
   "source": [
    "from collections import defaultdict\n",
    "import networkx as nx\n",
    "import matplotlib.pyplot as plt\n",
    "\n",
    "# List of reads\n",
    "with open(\"1002059166.txt\") as file:\n",
    "    reads = file.read().strip().split()\n",
    "\n",
    "# Generating kmers and storing them in kmers.txt\n",
    "k = 3  # k-mer length\n",
    "with open(\"kmers.txt\", \"w\") as file:\n",
    "    for read in reads:\n",
    "        for i in range(len(read) - k + 1):\n",
    "            kmer = read[i:i+k]\n",
    "            prefix = kmer[:-1]\n",
    "            suffix = kmer[1:]\n",
    "            if len(prefix) == k-1 and len(suffix) == k-1:  \n",
    "                file.write(prefix + \"\\n\" + suffix + \"\\n\")\n"
   ]
  },
  {
   "cell_type": "markdown",
   "id": "67948d04",
   "metadata": {},
   "source": [
    "**2.3) Generating a De Bruijn Graph**"
   ]
  },
  {
   "cell_type": "code",
   "execution_count": 2,
   "id": "593fcdba",
   "metadata": {},
   "outputs": [
    {
     "data": {
      "image/png": "[encoded data removed]",
      "text/plain": [
       "<Figure size 700x700 with 1 Axes>"
      ]
     },
     "metadata": {},
     "output_type": "display_data"
    }
   ],
   "source": [
    "# Generate the De Bruijn graph\n",
    "import matplotlib.pyplot as plt\n",
    "\n",
    "graph = nx.DiGraph()\n",
    "with open(\"kmers.txt\") as file:\n",
    "    kmers = [line.strip() for line in file if line.strip()]\n",
    "    \n",
    "    suffix = []\n",
    "    prefix = []\n",
    "    for line in kmers:\n",
    "        line = line.strip()\n",
    "        if line:\n",
    "            if len(suffix) < len(prefix):\n",
    "                suffix.append(line)\n",
    "            else:\n",
    "                prefix.append(line)\n",
    "        if len(prefix) == len(suffix):\n",
    "            current_prefix = prefix[0]\n",
    "            prefix = prefix[1:]\n",
    "            current_suffix = suffix[0]\n",
    "            suffix = suffix[1:]\n",
    "            if graph.has_edge(current_prefix, current_suffix):\n",
    "                graph[current_prefix][current_suffix]['weight'] += 1\n",
    "            else:\n",
    "                graph.add_edge(current_prefix, current_suffix, weight=1)\n",
    "\n",
    "# Create a graph using networkx\n",
    "G = nx.DiGraph(graph)\n",
    "plt.figure(figsize=(7, 7))\n",
    "pos = nx.spring_layout(G)\n",
    "nx.draw_networkx(G, pos, with_labels=True, node_color='lightblue', node_size=500, font_size=10, font_weight='bold', font_color='black')\n",
    "# Save the plot\n",
    "plt.savefig(\"De_Bruijn_Graph.png\")\n",
    "plt.show()\n"
   ]
  },
  {
   "cell_type": "markdown",
   "id": "71abf2d5",
   "metadata": {},
   "source": [
    "**2.4) Eulerian Cycles**"
   ]
  },
  {
   "cell_type": "markdown",
   "id": "e09ad800",
   "metadata": {
    "scrolled": true
   },
   "source": [
    "**The below graph has a Eulerian Cycle**"
   ]
  },
  {
   "cell_type": "code",
   "execution_count": 3,
   "id": "b1288585",
   "metadata": {},
   "outputs": [
    {
     "name": "stdout",
     "output_type": "stream",
     "text": [
      "In-degree: {'ga': 2, 'ac': 1, 'cg': 3, 'gc': 1, 'gt': 1, 'tc': 0, 'ag': 1}\n",
      "Out-degree: {'ga': 2, 'ac': 1, 'cg': 3, 'gc': 1, 'gt': 0, 'tc': 1, 'ag': 1}\n",
      "The graph has an Eulerian cycle.\n"
     ]
    }
   ],
   "source": [
    "\n",
    "# Calculate in-degree and out-degree of each node\n",
    "in_degree = dict(graph.in_degree())\n",
    "out_degree = dict(graph.out_degree())\n",
    "\n",
    "# Check if graph has an Eulerian cycle\n",
    "odd_degree_count = 0\n",
    "for node in graph.nodes:\n",
    "    if in_degree[node] != out_degree[node]:\n",
    "        odd_degree_count += 1\n",
    "        if odd_degree_count > 2:\n",
    "            eulerian_cycle = False\n",
    "            break\n",
    "else:\n",
    "    eulerian_cycle = True\n",
    "\n",
    "\n",
    "# Print results\n",
    "print(\"In-degree:\", in_degree)\n",
    "print(\"Out-degree:\", out_degree)\n",
    "if eulerian_cycle:\n",
    "    print(\"The graph has an Eulerian cycle.\")\n",
    "else:\n",
    "    print(\"The graph does not have an Eulerian cycle.\")\n"
   ]
  },
  {
   "cell_type": "markdown",
   "id": "a90f3ac7",
   "metadata": {},
   "source": [
    "**2.5) Generating an Assembly**"
   ]
  },
  {
   "cell_type": "markdown",
   "id": "b0499128",
   "metadata": {},
   "source": [
    "**The assembled genome sequence would be: \" TCGAGACGCGT \"**"
   ]
  },
  {
   "cell_type": "code",
   "execution_count": null,
   "id": "50a2ef9a",
   "metadata": {},
   "outputs": [],
   "source": []
  }
 ],
 "metadata": {
  "kernelspec": {
   "display_name": "Python 3 (ipykernel)",
   "language": "python",
   "name": "python3"
  },
  "language_info": {
   "codemirror_mode": {
    "name": "ipython",
    "version": 3
   },
   "file_extension": ".py",
   "mimetype": "text/x-python",
   "name": "python",
   "nbconvert_exporter": "python",
   "pygments_lexer": "ipython3",
   "version": "3.10.10"
  }
 },
 "nbformat": 4,
 "nbformat_minor": 5
}
